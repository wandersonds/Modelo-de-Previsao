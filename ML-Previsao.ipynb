{
 "cells": [
  {
   "cell_type": "code",
   "execution_count": 1,
   "id": "241d4aed",
   "metadata": {},
   "outputs": [],
   "source": [
    "!pip install -q xgboost"
   ]
  },
  {
   "cell_type": "code",
   "execution_count": 2,
   "id": "3994d1e4",
   "metadata": {
    "scrolled": true
   },
   "outputs": [],
   "source": [
    "# Importação de pacotes\n",
    "import pickle  # Para serialização de objetos\n",
    "import sklearn as sk  # Biblioteca de aprendizado de máquina\n",
    "import pandas as pd  # Manipulação de dados\n",
    "import numpy as np  # Operações numéricas\n",
    "import seaborn as sns  # Visualizações estatísticas\n",
    "import matplotlib.pyplot as plt  # Visualizações gráficas\n",
    "\n",
    "# Importação do XGBoost\n",
    "import xgboost as xgb\n",
    "from xgboost import XGBClassifier  # Classificador específico do XGBoost\n",
    "\n",
    "# Algoritmos de classificação do scikit-learn\n",
    "from sklearn.linear_model import LogisticRegression  # Regressão Logística\n",
    "from sklearn.naive_bayes import GaussianNB  # Classificador Naive Bayes\n",
    "\n",
    "# Pré-processamento e validação\n",
    "from sklearn.preprocessing import StandardScaler  # Padronização dos dados\n",
    "from sklearn.model_selection import cross_val_score, GridSearchCV  # Validação cruzada e busca em grade\n",
    "\n",
    "# Métricas de avaliação\n",
    "from sklearn.metrics import (\n",
    "    roc_auc_score,  # Área sob a curva ROC\n",
    "    accuracy_score,  # Precisão\n",
    "    precision_score,  # Precisão das previsões\n",
    "    recall_score,  # Recall\n",
    "    roc_curve,  # Curva ROC\n",
    ")\n",
    "\n",
    "# Ignorar avisos\n",
    "import warnings\n",
    "warnings.filterwarnings('ignore')\n",
    "\n",
    "# Exibir gráficos inline (recomendado para notebooks Jupyter)\n",
    "%matplotlib inline\n"
   ]
  },
  {
   "cell_type": "code",
   "execution_count": 3,
   "id": "cdaa85e3",
   "metadata": {},
   "outputs": [],
   "source": [
    "#Carregando os dados\n",
    "df = pd.read_csv('Synthetic_Financial_datasets_log.csv')"
   ]
  },
  {
   "cell_type": "code",
   "execution_count": 4,
   "id": "bcc5fd6a",
   "metadata": {},
   "outputs": [
    {
     "data": {
      "text/plain": [
       "(6362620, 11)"
      ]
     },
     "execution_count": 4,
     "metadata": {},
     "output_type": "execute_result"
    }
   ],
   "source": [
    "#Tamanho do Dataset\n",
    "df.shape"
   ]
  },
  {
   "cell_type": "code",
   "execution_count": 5,
   "id": "2e954dcc",
   "metadata": {},
   "outputs": [
    {
     "data": {
      "text/html": [
       "<div>\n",
       "<style scoped>\n",
       "    .dataframe tbody tr th:only-of-type {\n",
       "        vertical-align: middle;\n",
       "    }\n",
       "\n",
       "    .dataframe tbody tr th {\n",
       "        vertical-align: top;\n",
       "    }\n",
       "\n",
       "    .dataframe thead th {\n",
       "        text-align: right;\n",
       "    }\n",
       "</style>\n",
       "<table border=\"1\" class=\"dataframe\">\n",
       "  <thead>\n",
       "    <tr style=\"text-align: right;\">\n",
       "      <th></th>\n",
       "      <th>step</th>\n",
       "      <th>type</th>\n",
       "      <th>amount</th>\n",
       "      <th>nameOrig</th>\n",
       "      <th>oldbalanceOrg</th>\n",
       "      <th>newbalanceOrig</th>\n",
       "      <th>nameDest</th>\n",
       "      <th>oldbalanceDest</th>\n",
       "      <th>newbalanceDest</th>\n",
       "      <th>isFraud</th>\n",
       "      <th>isFlaggedFraud</th>\n",
       "    </tr>\n",
       "  </thead>\n",
       "  <tbody>\n",
       "    <tr>\n",
       "      <th>0</th>\n",
       "      <td>1</td>\n",
       "      <td>PAYMENT</td>\n",
       "      <td>9839.64</td>\n",
       "      <td>C1231006815</td>\n",
       "      <td>170136.0</td>\n",
       "      <td>160296.36</td>\n",
       "      <td>M1979787155</td>\n",
       "      <td>0.0</td>\n",
       "      <td>0.0</td>\n",
       "      <td>0</td>\n",
       "      <td>0</td>\n",
       "    </tr>\n",
       "    <tr>\n",
       "      <th>1</th>\n",
       "      <td>1</td>\n",
       "      <td>PAYMENT</td>\n",
       "      <td>1864.28</td>\n",
       "      <td>C1666544295</td>\n",
       "      <td>21249.0</td>\n",
       "      <td>19384.72</td>\n",
       "      <td>M2044282225</td>\n",
       "      <td>0.0</td>\n",
       "      <td>0.0</td>\n",
       "      <td>0</td>\n",
       "      <td>0</td>\n",
       "    </tr>\n",
       "    <tr>\n",
       "      <th>2</th>\n",
       "      <td>1</td>\n",
       "      <td>TRANSFER</td>\n",
       "      <td>181.00</td>\n",
       "      <td>C1305486145</td>\n",
       "      <td>181.0</td>\n",
       "      <td>0.00</td>\n",
       "      <td>C553264065</td>\n",
       "      <td>0.0</td>\n",
       "      <td>0.0</td>\n",
       "      <td>1</td>\n",
       "      <td>0</td>\n",
       "    </tr>\n",
       "    <tr>\n",
       "      <th>3</th>\n",
       "      <td>1</td>\n",
       "      <td>CASH_OUT</td>\n",
       "      <td>181.00</td>\n",
       "      <td>C840083671</td>\n",
       "      <td>181.0</td>\n",
       "      <td>0.00</td>\n",
       "      <td>C38997010</td>\n",
       "      <td>21182.0</td>\n",
       "      <td>0.0</td>\n",
       "      <td>1</td>\n",
       "      <td>0</td>\n",
       "    </tr>\n",
       "    <tr>\n",
       "      <th>4</th>\n",
       "      <td>1</td>\n",
       "      <td>PAYMENT</td>\n",
       "      <td>11668.14</td>\n",
       "      <td>C2048537720</td>\n",
       "      <td>41554.0</td>\n",
       "      <td>29885.86</td>\n",
       "      <td>M1230701703</td>\n",
       "      <td>0.0</td>\n",
       "      <td>0.0</td>\n",
       "      <td>0</td>\n",
       "      <td>0</td>\n",
       "    </tr>\n",
       "  </tbody>\n",
       "</table>\n",
       "</div>"
      ],
      "text/plain": [
       "   step      type    amount     nameOrig  oldbalanceOrg  newbalanceOrig  \\\n",
       "0     1   PAYMENT   9839.64  C1231006815       170136.0       160296.36   \n",
       "1     1   PAYMENT   1864.28  C1666544295        21249.0        19384.72   \n",
       "2     1  TRANSFER    181.00  C1305486145          181.0            0.00   \n",
       "3     1  CASH_OUT    181.00   C840083671          181.0            0.00   \n",
       "4     1   PAYMENT  11668.14  C2048537720        41554.0        29885.86   \n",
       "\n",
       "      nameDest  oldbalanceDest  newbalanceDest  isFraud  isFlaggedFraud  \n",
       "0  M1979787155             0.0             0.0        0               0  \n",
       "1  M2044282225             0.0             0.0        0               0  \n",
       "2   C553264065             0.0             0.0        1               0  \n",
       "3    C38997010         21182.0             0.0        1               0  \n",
       "4  M1230701703             0.0             0.0        0               0  "
      ]
     },
     "execution_count": 5,
     "metadata": {},
     "output_type": "execute_result"
    }
   ],
   "source": [
    "#Visualizar registros\n",
    "df.head()"
   ]
  },
  {
   "cell_type": "code",
   "execution_count": 6,
   "id": "f0ad0445",
   "metadata": {},
   "outputs": [
    {
     "data": {
      "text/html": [
       "<div>\n",
       "<style scoped>\n",
       "    .dataframe tbody tr th:only-of-type {\n",
       "        vertical-align: middle;\n",
       "    }\n",
       "\n",
       "    .dataframe tbody tr th {\n",
       "        vertical-align: top;\n",
       "    }\n",
       "\n",
       "    .dataframe thead th {\n",
       "        text-align: right;\n",
       "    }\n",
       "</style>\n",
       "<table border=\"1\" class=\"dataframe\">\n",
       "  <thead>\n",
       "    <tr style=\"text-align: right;\">\n",
       "      <th></th>\n",
       "      <th>step</th>\n",
       "      <th>amount</th>\n",
       "      <th>oldbalanceOrg</th>\n",
       "      <th>newbalanceOrig</th>\n",
       "      <th>oldbalanceDest</th>\n",
       "      <th>newbalanceDest</th>\n",
       "      <th>isFraud</th>\n",
       "      <th>isFlaggedFraud</th>\n",
       "    </tr>\n",
       "  </thead>\n",
       "  <tbody>\n",
       "    <tr>\n",
       "      <th>count</th>\n",
       "      <td>6.362620e+06</td>\n",
       "      <td>6.362620e+06</td>\n",
       "      <td>6.362620e+06</td>\n",
       "      <td>6.362620e+06</td>\n",
       "      <td>6.362620e+06</td>\n",
       "      <td>6.362620e+06</td>\n",
       "      <td>6.362620e+06</td>\n",
       "      <td>6.362620e+06</td>\n",
       "    </tr>\n",
       "    <tr>\n",
       "      <th>mean</th>\n",
       "      <td>2.433972e+02</td>\n",
       "      <td>1.798619e+05</td>\n",
       "      <td>8.338831e+05</td>\n",
       "      <td>8.551137e+05</td>\n",
       "      <td>1.100702e+06</td>\n",
       "      <td>1.224996e+06</td>\n",
       "      <td>1.290820e-03</td>\n",
       "      <td>2.514687e-06</td>\n",
       "    </tr>\n",
       "    <tr>\n",
       "      <th>std</th>\n",
       "      <td>1.423320e+02</td>\n",
       "      <td>6.038582e+05</td>\n",
       "      <td>2.888243e+06</td>\n",
       "      <td>2.924049e+06</td>\n",
       "      <td>3.399180e+06</td>\n",
       "      <td>3.674129e+06</td>\n",
       "      <td>3.590480e-02</td>\n",
       "      <td>1.585775e-03</td>\n",
       "    </tr>\n",
       "    <tr>\n",
       "      <th>min</th>\n",
       "      <td>1.000000e+00</td>\n",
       "      <td>0.000000e+00</td>\n",
       "      <td>0.000000e+00</td>\n",
       "      <td>0.000000e+00</td>\n",
       "      <td>0.000000e+00</td>\n",
       "      <td>0.000000e+00</td>\n",
       "      <td>0.000000e+00</td>\n",
       "      <td>0.000000e+00</td>\n",
       "    </tr>\n",
       "    <tr>\n",
       "      <th>25%</th>\n",
       "      <td>1.560000e+02</td>\n",
       "      <td>1.338957e+04</td>\n",
       "      <td>0.000000e+00</td>\n",
       "      <td>0.000000e+00</td>\n",
       "      <td>0.000000e+00</td>\n",
       "      <td>0.000000e+00</td>\n",
       "      <td>0.000000e+00</td>\n",
       "      <td>0.000000e+00</td>\n",
       "    </tr>\n",
       "    <tr>\n",
       "      <th>50%</th>\n",
       "      <td>2.390000e+02</td>\n",
       "      <td>7.487194e+04</td>\n",
       "      <td>1.420800e+04</td>\n",
       "      <td>0.000000e+00</td>\n",
       "      <td>1.327057e+05</td>\n",
       "      <td>2.146614e+05</td>\n",
       "      <td>0.000000e+00</td>\n",
       "      <td>0.000000e+00</td>\n",
       "    </tr>\n",
       "    <tr>\n",
       "      <th>75%</th>\n",
       "      <td>3.350000e+02</td>\n",
       "      <td>2.087215e+05</td>\n",
       "      <td>1.073152e+05</td>\n",
       "      <td>1.442584e+05</td>\n",
       "      <td>9.430367e+05</td>\n",
       "      <td>1.111909e+06</td>\n",
       "      <td>0.000000e+00</td>\n",
       "      <td>0.000000e+00</td>\n",
       "    </tr>\n",
       "    <tr>\n",
       "      <th>max</th>\n",
       "      <td>7.430000e+02</td>\n",
       "      <td>9.244552e+07</td>\n",
       "      <td>5.958504e+07</td>\n",
       "      <td>4.958504e+07</td>\n",
       "      <td>3.560159e+08</td>\n",
       "      <td>3.561793e+08</td>\n",
       "      <td>1.000000e+00</td>\n",
       "      <td>1.000000e+00</td>\n",
       "    </tr>\n",
       "  </tbody>\n",
       "</table>\n",
       "</div>"
      ],
      "text/plain": [
       "               step        amount  oldbalanceOrg  newbalanceOrig  \\\n",
       "count  6.362620e+06  6.362620e+06   6.362620e+06    6.362620e+06   \n",
       "mean   2.433972e+02  1.798619e+05   8.338831e+05    8.551137e+05   \n",
       "std    1.423320e+02  6.038582e+05   2.888243e+06    2.924049e+06   \n",
       "min    1.000000e+00  0.000000e+00   0.000000e+00    0.000000e+00   \n",
       "25%    1.560000e+02  1.338957e+04   0.000000e+00    0.000000e+00   \n",
       "50%    2.390000e+02  7.487194e+04   1.420800e+04    0.000000e+00   \n",
       "75%    3.350000e+02  2.087215e+05   1.073152e+05    1.442584e+05   \n",
       "max    7.430000e+02  9.244552e+07   5.958504e+07    4.958504e+07   \n",
       "\n",
       "       oldbalanceDest  newbalanceDest       isFraud  isFlaggedFraud  \n",
       "count    6.362620e+06    6.362620e+06  6.362620e+06    6.362620e+06  \n",
       "mean     1.100702e+06    1.224996e+06  1.290820e-03    2.514687e-06  \n",
       "std      3.399180e+06    3.674129e+06  3.590480e-02    1.585775e-03  \n",
       "min      0.000000e+00    0.000000e+00  0.000000e+00    0.000000e+00  \n",
       "25%      0.000000e+00    0.000000e+00  0.000000e+00    0.000000e+00  \n",
       "50%      1.327057e+05    2.146614e+05  0.000000e+00    0.000000e+00  \n",
       "75%      9.430367e+05    1.111909e+06  0.000000e+00    0.000000e+00  \n",
       "max      3.560159e+08    3.561793e+08  1.000000e+00    1.000000e+00  "
      ]
     },
     "execution_count": 6,
     "metadata": {},
     "output_type": "execute_result"
    }
   ],
   "source": [
    "# Resumo estatístico\n",
    "df.describe()"
   ]
  },
  {
   "cell_type": "code",
   "execution_count": 7,
   "id": "a23bc513",
   "metadata": {},
   "outputs": [
    {
     "name": "stdout",
     "output_type": "stream",
     "text": [
      "Número de colunas: 11\n"
     ]
    }
   ],
   "source": [
    "print(\"Número de colunas:\", len(df.columns))"
   ]
  },
  {
   "cell_type": "code",
   "execution_count": 8,
   "id": "83f9cb60",
   "metadata": {},
   "outputs": [
    {
     "data": {
      "text/plain": [
       "0"
      ]
     },
     "execution_count": 8,
     "metadata": {},
     "output_type": "execute_result"
    }
   ],
   "source": [
    "# Verificando valores ausentes\n",
    "df.isnull().sum().sum()"
   ]
  },
  {
   "cell_type": "code",
   "execution_count": 9,
   "id": "6410efc8",
   "metadata": {},
   "outputs": [],
   "source": [
    "#Esta função calcula a prevalência da classe positiva (label = 1)\n",
    "def calcula_prevalencia(y_actual): # Corrected the argument name to y_actual\n",
    "  return sum(y_actual == 1) / len(y_actual)"
   ]
  },
  {
   "cell_type": "code",
   "execution_count": 10,
   "id": "3edab14d",
   "metadata": {},
   "outputs": [
    {
     "name": "stdout",
     "output_type": "stream",
     "text": [
      "Prevalência da classe positiva: 0.001\n"
     ]
    }
   ],
   "source": [
    "print(\"Prevalência da classe positiva: %.3f\"% calcula_prevalencia(df[\"isFraud\"].values))\n"
   ]
  },
  {
   "cell_type": "code",
   "execution_count": 11,
   "id": "0b5c33c5",
   "metadata": {},
   "outputs": [
    {
     "data": {
      "image/png": "[encoded data removed]",
      "text/plain": [
       "<Figure size 640x480 with 1 Axes>"
      ]
     },
     "metadata": {},
     "output_type": "display_data"
    }
   ],
   "source": [
    "# Contar a distribuição dos valores da variável alvo\n",
    "contagem_alvo = df['isFraud'].value_counts()\n",
    "\n",
    "# Criar gráfico de barras\n",
    "plt.bar(contagem_alvo.index.astype(str), contagem_alvo.values)\n",
    "\n",
    "# Adicionar título e rótulos\n",
    "plt.title('Distribuição da Variável Alvo (isFraud)')\n",
    "plt.xlabel('Classe (0: Sem fraude, 1: Com fraude)')\n",
    "plt.ylabel('Contagem')\n",
    "\n",
    "# Mostrar o gráfico\n",
    "plt.show()"
   ]
  },
  {
   "cell_type": "code",
   "execution_count": 12,
   "id": "d4caaed3",
   "metadata": {},
   "outputs": [
    {
     "name": "stdout",
     "output_type": "stream",
     "text": [
      "Quantidade de valores 1 (com fraude): 8213\n"
     ]
    }
   ],
   "source": [
    "# Contar quantos valores são 1 na variável 'Alvo'\n",
    "quantidade_1 = df['isFraud'].sum()\n",
    "\n",
    "# Exibir o resultado\n",
    "print(f'Quantidade de valores 1 (com fraude): {quantidade_1}')"
   ]
  },
  {
   "cell_type": "code",
   "execution_count": 13,
   "id": "61be66d9",
   "metadata": {},
   "outputs": [
    {
     "name": "stdout",
     "output_type": "stream",
     "text": [
      "Valores distintos em 'type': ['PAYMENT' 'TRANSFER' 'CASH_OUT' 'DEBIT' 'CASH_IN']\n",
      "Valores distintos em 'nameOrig': ['C1231006815' 'C1666544295' 'C1305486145' ... 'C1162922333' 'C1685995037'\n",
      " 'C1280323807']\n",
      "Valores distintos em 'nameDest': ['M1979787155' 'M2044282225' 'C553264065' ... 'C1850423904' 'C1881841831'\n",
      " 'C2080388513']\n"
     ]
    }
   ],
   "source": [
    "#valores distindos de smoking_history e gender\n",
    "\n",
    "# Obter valores distintos (únicos) da coluna 'type'\n",
    "valores_distintos_type = df['type'].unique()\n",
    "\n",
    "# Obter valores distintos (únicos) da coluna 'nameOrig'\n",
    "valores_distintos_nameOrig = df['nameOrig'].unique()\n",
    "\n",
    "# Obter valores distintos (únicos) da coluna 'nameDest'\n",
    "valores_distintos_nameDest = df['nameDest'].unique()\n",
    "\n",
    "# Exibir os resultados\n",
    "print(\"Valores distintos em 'type':\", valores_distintos_type)\n",
    "print(\"Valores distintos em 'nameOrig':\", valores_distintos_nameOrig)\n",
    "print(\"Valores distintos em 'nameDest':\", valores_distintos_nameDest)"
   ]
  },
  {
   "cell_type": "code",
   "execution_count": 14,
   "id": "227500b5",
   "metadata": {},
   "outputs": [],
   "source": [
    "from sklearn.preprocessing import LabelEncoder"
   ]
  },
  {
   "cell_type": "code",
   "execution_count": 15,
   "id": "45cfaac8",
   "metadata": {},
   "outputs": [
    {
     "data": {
      "text/html": [
       "<div>\n",
       "<style scoped>\n",
       "    .dataframe tbody tr th:only-of-type {\n",
       "        vertical-align: middle;\n",
       "    }\n",
       "\n",
       "    .dataframe tbody tr th {\n",
       "        vertical-align: top;\n",
       "    }\n",
       "\n",
       "    .dataframe thead th {\n",
       "        text-align: right;\n",
       "    }\n",
       "</style>\n",
       "<table border=\"1\" class=\"dataframe\">\n",
       "  <thead>\n",
       "    <tr style=\"text-align: right;\">\n",
       "      <th></th>\n",
       "      <th>step</th>\n",
       "      <th>type</th>\n",
       "      <th>amount</th>\n",
       "      <th>nameOrig</th>\n",
       "      <th>oldbalanceOrg</th>\n",
       "      <th>newbalanceOrig</th>\n",
       "      <th>nameDest</th>\n",
       "      <th>oldbalanceDest</th>\n",
       "      <th>newbalanceDest</th>\n",
       "      <th>isFraud</th>\n",
       "      <th>isFlaggedFraud</th>\n",
       "    </tr>\n",
       "  </thead>\n",
       "  <tbody>\n",
       "    <tr>\n",
       "      <th>0</th>\n",
       "      <td>1</td>\n",
       "      <td>3</td>\n",
       "      <td>9839.64</td>\n",
       "      <td>1</td>\n",
       "      <td>170136.00</td>\n",
       "      <td>160296.36</td>\n",
       "      <td>1</td>\n",
       "      <td>0.00</td>\n",
       "      <td>0.00</td>\n",
       "      <td>0</td>\n",
       "      <td>0</td>\n",
       "    </tr>\n",
       "    <tr>\n",
       "      <th>1</th>\n",
       "      <td>1</td>\n",
       "      <td>3</td>\n",
       "      <td>1864.28</td>\n",
       "      <td>1</td>\n",
       "      <td>21249.00</td>\n",
       "      <td>19384.72</td>\n",
       "      <td>1</td>\n",
       "      <td>0.00</td>\n",
       "      <td>0.00</td>\n",
       "      <td>0</td>\n",
       "      <td>0</td>\n",
       "    </tr>\n",
       "    <tr>\n",
       "      <th>2</th>\n",
       "      <td>1</td>\n",
       "      <td>4</td>\n",
       "      <td>181.00</td>\n",
       "      <td>1</td>\n",
       "      <td>181.00</td>\n",
       "      <td>0.00</td>\n",
       "      <td>44</td>\n",
       "      <td>0.00</td>\n",
       "      <td>0.00</td>\n",
       "      <td>1</td>\n",
       "      <td>0</td>\n",
       "    </tr>\n",
       "    <tr>\n",
       "      <th>3</th>\n",
       "      <td>1</td>\n",
       "      <td>1</td>\n",
       "      <td>181.00</td>\n",
       "      <td>1</td>\n",
       "      <td>181.00</td>\n",
       "      <td>0.00</td>\n",
       "      <td>41</td>\n",
       "      <td>21182.00</td>\n",
       "      <td>0.00</td>\n",
       "      <td>1</td>\n",
       "      <td>0</td>\n",
       "    </tr>\n",
       "    <tr>\n",
       "      <th>4</th>\n",
       "      <td>1</td>\n",
       "      <td>3</td>\n",
       "      <td>11668.14</td>\n",
       "      <td>1</td>\n",
       "      <td>41554.00</td>\n",
       "      <td>29885.86</td>\n",
       "      <td>1</td>\n",
       "      <td>0.00</td>\n",
       "      <td>0.00</td>\n",
       "      <td>0</td>\n",
       "      <td>0</td>\n",
       "    </tr>\n",
       "    <tr>\n",
       "      <th>...</th>\n",
       "      <td>...</td>\n",
       "      <td>...</td>\n",
       "      <td>...</td>\n",
       "      <td>...</td>\n",
       "      <td>...</td>\n",
       "      <td>...</td>\n",
       "      <td>...</td>\n",
       "      <td>...</td>\n",
       "      <td>...</td>\n",
       "      <td>...</td>\n",
       "      <td>...</td>\n",
       "    </tr>\n",
       "    <tr>\n",
       "      <th>6362615</th>\n",
       "      <td>743</td>\n",
       "      <td>1</td>\n",
       "      <td>339682.13</td>\n",
       "      <td>1</td>\n",
       "      <td>339682.13</td>\n",
       "      <td>0.00</td>\n",
       "      <td>2</td>\n",
       "      <td>0.00</td>\n",
       "      <td>339682.13</td>\n",
       "      <td>1</td>\n",
       "      <td>0</td>\n",
       "    </tr>\n",
       "    <tr>\n",
       "      <th>6362616</th>\n",
       "      <td>743</td>\n",
       "      <td>4</td>\n",
       "      <td>6311409.28</td>\n",
       "      <td>1</td>\n",
       "      <td>6311409.28</td>\n",
       "      <td>0.00</td>\n",
       "      <td>1</td>\n",
       "      <td>0.00</td>\n",
       "      <td>0.00</td>\n",
       "      <td>1</td>\n",
       "      <td>0</td>\n",
       "    </tr>\n",
       "    <tr>\n",
       "      <th>6362617</th>\n",
       "      <td>743</td>\n",
       "      <td>1</td>\n",
       "      <td>6311409.28</td>\n",
       "      <td>1</td>\n",
       "      <td>6311409.28</td>\n",
       "      <td>0.00</td>\n",
       "      <td>3</td>\n",
       "      <td>68488.84</td>\n",
       "      <td>6379898.11</td>\n",
       "      <td>1</td>\n",
       "      <td>0</td>\n",
       "    </tr>\n",
       "    <tr>\n",
       "      <th>6362618</th>\n",
       "      <td>743</td>\n",
       "      <td>4</td>\n",
       "      <td>850002.52</td>\n",
       "      <td>1</td>\n",
       "      <td>850002.52</td>\n",
       "      <td>0.00</td>\n",
       "      <td>1</td>\n",
       "      <td>0.00</td>\n",
       "      <td>0.00</td>\n",
       "      <td>1</td>\n",
       "      <td>0</td>\n",
       "    </tr>\n",
       "    <tr>\n",
       "      <th>6362619</th>\n",
       "      <td>743</td>\n",
       "      <td>1</td>\n",
       "      <td>850002.52</td>\n",
       "      <td>1</td>\n",
       "      <td>850002.52</td>\n",
       "      <td>0.00</td>\n",
       "      <td>28</td>\n",
       "      <td>6510099.11</td>\n",
       "      <td>7360101.63</td>\n",
       "      <td>1</td>\n",
       "      <td>0</td>\n",
       "    </tr>\n",
       "  </tbody>\n",
       "</table>\n",
       "<p>6362620 rows × 11 columns</p>\n",
       "</div>"
      ],
      "text/plain": [
       "         step  type      amount  nameOrig  oldbalanceOrg  newbalanceOrig  \\\n",
       "0           1     3     9839.64         1      170136.00       160296.36   \n",
       "1           1     3     1864.28         1       21249.00        19384.72   \n",
       "2           1     4      181.00         1         181.00            0.00   \n",
       "3           1     1      181.00         1         181.00            0.00   \n",
       "4           1     3    11668.14         1       41554.00        29885.86   \n",
       "...       ...   ...         ...       ...            ...             ...   \n",
       "6362615   743     1   339682.13         1      339682.13            0.00   \n",
       "6362616   743     4  6311409.28         1     6311409.28            0.00   \n",
       "6362617   743     1  6311409.28         1     6311409.28            0.00   \n",
       "6362618   743     4   850002.52         1      850002.52            0.00   \n",
       "6362619   743     1   850002.52         1      850002.52            0.00   \n",
       "\n",
       "         nameDest  oldbalanceDest  newbalanceDest  isFraud  isFlaggedFraud  \n",
       "0               1            0.00            0.00        0               0  \n",
       "1               1            0.00            0.00        0               0  \n",
       "2              44            0.00            0.00        1               0  \n",
       "3              41        21182.00            0.00        1               0  \n",
       "4               1            0.00            0.00        0               0  \n",
       "...           ...             ...             ...      ...             ...  \n",
       "6362615         2            0.00       339682.13        1               0  \n",
       "6362616         1            0.00            0.00        1               0  \n",
       "6362617         3        68488.84      6379898.11        1               0  \n",
       "6362618         1            0.00            0.00        1               0  \n",
       "6362619        28      6510099.11      7360101.63        1               0  \n",
       "\n",
       "[6362620 rows x 11 columns]"
      ]
     },
     "execution_count": 15,
     "metadata": {},
     "output_type": "execute_result"
    }
   ],
   "source": [
    "# Codificação por Rótulos para a coluna 'type'\n",
    "le_type = LabelEncoder()\n",
    "df['type'] = le_type.fit_transform(df['type'])\n",
    "\n",
    "# Codificação por Frequência para as colunas 'nameOrig' e 'nameDest'\n",
    "df['nameOrig'] = df['nameOrig'].map(df['nameOrig'].value_counts())\n",
    "df['nameDest'] = df['nameDest'].map(df['nameDest'].value_counts())\n",
    "\n",
    "# Exibir o DataFrame final\n",
    "df\n"
   ]
  },
  {
   "cell_type": "code",
   "execution_count": 16,
   "id": "6f05e6bc",
   "metadata": {},
   "outputs": [
    {
     "data": {
      "text/plain": [
       "step                int64\n",
       "type                int32\n",
       "amount            float64\n",
       "nameOrig            int64\n",
       "oldbalanceOrg     float64\n",
       "newbalanceOrig    float64\n",
       "nameDest            int64\n",
       "oldbalanceDest    float64\n",
       "newbalanceDest    float64\n",
       "isFraud             int64\n",
       "isFlaggedFraud      int64\n",
       "dtype: object"
      ]
     },
     "execution_count": 16,
     "metadata": {},
     "output_type": "execute_result"
    }
   ],
   "source": [
    "df.dtypes"
   ]
  },
  {
   "cell_type": "code",
   "execution_count": 35,
   "id": "663be07d",
   "metadata": {},
   "outputs": [
    {
     "data": {
      "text/html": [
       "<div>\n",
       "<style scoped>\n",
       "    .dataframe tbody tr th:only-of-type {\n",
       "        vertical-align: middle;\n",
       "    }\n",
       "\n",
       "    .dataframe tbody tr th {\n",
       "        vertical-align: top;\n",
       "    }\n",
       "\n",
       "    .dataframe thead th {\n",
       "        text-align: right;\n",
       "    }\n",
       "</style>\n",
       "<table border=\"1\" class=\"dataframe\">\n",
       "  <thead>\n",
       "    <tr style=\"text-align: right;\">\n",
       "      <th></th>\n",
       "      <th>step</th>\n",
       "      <th>type</th>\n",
       "      <th>amount</th>\n",
       "      <th>nameOrig</th>\n",
       "      <th>oldbalanceOrg</th>\n",
       "      <th>newbalanceOrig</th>\n",
       "      <th>nameDest</th>\n",
       "      <th>oldbalanceDest</th>\n",
       "      <th>newbalanceDest</th>\n",
       "      <th>isFlaggedFraud</th>\n",
       "      <th>isFraud</th>\n",
       "    </tr>\n",
       "  </thead>\n",
       "  <tbody>\n",
       "    <tr>\n",
       "      <th>0</th>\n",
       "      <td>1</td>\n",
       "      <td>3</td>\n",
       "      <td>9839.64</td>\n",
       "      <td>1</td>\n",
       "      <td>170136.00</td>\n",
       "      <td>160296.36</td>\n",
       "      <td>1</td>\n",
       "      <td>0.00</td>\n",
       "      <td>0.00</td>\n",
       "      <td>0</td>\n",
       "      <td>0</td>\n",
       "    </tr>\n",
       "    <tr>\n",
       "      <th>1</th>\n",
       "      <td>1</td>\n",
       "      <td>3</td>\n",
       "      <td>1864.28</td>\n",
       "      <td>1</td>\n",
       "      <td>21249.00</td>\n",
       "      <td>19384.72</td>\n",
       "      <td>1</td>\n",
       "      <td>0.00</td>\n",
       "      <td>0.00</td>\n",
       "      <td>0</td>\n",
       "      <td>0</td>\n",
       "    </tr>\n",
       "    <tr>\n",
       "      <th>2</th>\n",
       "      <td>1</td>\n",
       "      <td>4</td>\n",
       "      <td>181.00</td>\n",
       "      <td>1</td>\n",
       "      <td>181.00</td>\n",
       "      <td>0.00</td>\n",
       "      <td>44</td>\n",
       "      <td>0.00</td>\n",
       "      <td>0.00</td>\n",
       "      <td>0</td>\n",
       "      <td>1</td>\n",
       "    </tr>\n",
       "    <tr>\n",
       "      <th>3</th>\n",
       "      <td>1</td>\n",
       "      <td>1</td>\n",
       "      <td>181.00</td>\n",
       "      <td>1</td>\n",
       "      <td>181.00</td>\n",
       "      <td>0.00</td>\n",
       "      <td>41</td>\n",
       "      <td>21182.00</td>\n",
       "      <td>0.00</td>\n",
       "      <td>0</td>\n",
       "      <td>1</td>\n",
       "    </tr>\n",
       "    <tr>\n",
       "      <th>4</th>\n",
       "      <td>1</td>\n",
       "      <td>3</td>\n",
       "      <td>11668.14</td>\n",
       "      <td>1</td>\n",
       "      <td>41554.00</td>\n",
       "      <td>29885.86</td>\n",
       "      <td>1</td>\n",
       "      <td>0.00</td>\n",
       "      <td>0.00</td>\n",
       "      <td>0</td>\n",
       "      <td>0</td>\n",
       "    </tr>\n",
       "    <tr>\n",
       "      <th>...</th>\n",
       "      <td>...</td>\n",
       "      <td>...</td>\n",
       "      <td>...</td>\n",
       "      <td>...</td>\n",
       "      <td>...</td>\n",
       "      <td>...</td>\n",
       "      <td>...</td>\n",
       "      <td>...</td>\n",
       "      <td>...</td>\n",
       "      <td>...</td>\n",
       "      <td>...</td>\n",
       "    </tr>\n",
       "    <tr>\n",
       "      <th>6362615</th>\n",
       "      <td>743</td>\n",
       "      <td>1</td>\n",
       "      <td>339682.13</td>\n",
       "      <td>1</td>\n",
       "      <td>339682.13</td>\n",
       "      <td>0.00</td>\n",
       "      <td>2</td>\n",
       "      <td>0.00</td>\n",
       "      <td>339682.13</td>\n",
       "      <td>0</td>\n",
       "      <td>1</td>\n",
       "    </tr>\n",
       "    <tr>\n",
       "      <th>6362616</th>\n",
       "      <td>743</td>\n",
       "      <td>4</td>\n",
       "      <td>6311409.28</td>\n",
       "      <td>1</td>\n",
       "      <td>6311409.28</td>\n",
       "      <td>0.00</td>\n",
       "      <td>1</td>\n",
       "      <td>0.00</td>\n",
       "      <td>0.00</td>\n",
       "      <td>0</td>\n",
       "      <td>1</td>\n",
       "    </tr>\n",
       "    <tr>\n",
       "      <th>6362617</th>\n",
       "      <td>743</td>\n",
       "      <td>1</td>\n",
       "      <td>6311409.28</td>\n",
       "      <td>1</td>\n",
       "      <td>6311409.28</td>\n",
       "      <td>0.00</td>\n",
       "      <td>3</td>\n",
       "      <td>68488.84</td>\n",
       "      <td>6379898.11</td>\n",
       "      <td>0</td>\n",
       "      <td>1</td>\n",
       "    </tr>\n",
       "    <tr>\n",
       "      <th>6362618</th>\n",
       "      <td>743</td>\n",
       "      <td>4</td>\n",
       "      <td>850002.52</td>\n",
       "      <td>1</td>\n",
       "      <td>850002.52</td>\n",
       "      <td>0.00</td>\n",
       "      <td>1</td>\n",
       "      <td>0.00</td>\n",
       "      <td>0.00</td>\n",
       "      <td>0</td>\n",
       "      <td>1</td>\n",
       "    </tr>\n",
       "    <tr>\n",
       "      <th>6362619</th>\n",
       "      <td>743</td>\n",
       "      <td>1</td>\n",
       "      <td>850002.52</td>\n",
       "      <td>1</td>\n",
       "      <td>850002.52</td>\n",
       "      <td>0.00</td>\n",
       "      <td>28</td>\n",
       "      <td>6510099.11</td>\n",
       "      <td>7360101.63</td>\n",
       "      <td>0</td>\n",
       "      <td>1</td>\n",
       "    </tr>\n",
       "  </tbody>\n",
       "</table>\n",
       "<p>6362620 rows × 11 columns</p>\n",
       "</div>"
      ],
      "text/plain": [
       "         step  type      amount  nameOrig  oldbalanceOrg  newbalanceOrig  \\\n",
       "0           1     3     9839.64         1      170136.00       160296.36   \n",
       "1           1     3     1864.28         1       21249.00        19384.72   \n",
       "2           1     4      181.00         1         181.00            0.00   \n",
       "3           1     1      181.00         1         181.00            0.00   \n",
       "4           1     3    11668.14         1       41554.00        29885.86   \n",
       "...       ...   ...         ...       ...            ...             ...   \n",
       "6362615   743     1   339682.13         1      339682.13            0.00   \n",
       "6362616   743     4  6311409.28         1     6311409.28            0.00   \n",
       "6362617   743     1  6311409.28         1     6311409.28            0.00   \n",
       "6362618   743     4   850002.52         1      850002.52            0.00   \n",
       "6362619   743     1   850002.52         1      850002.52            0.00   \n",
       "\n",
       "         nameDest  oldbalanceDest  newbalanceDest  isFlaggedFraud  isFraud  \n",
       "0               1            0.00            0.00               0        0  \n",
       "1               1            0.00            0.00               0        0  \n",
       "2              44            0.00            0.00               0        1  \n",
       "3              41        21182.00            0.00               0        1  \n",
       "4               1            0.00            0.00               0        0  \n",
       "...           ...             ...             ...             ...      ...  \n",
       "6362615         2            0.00       339682.13               0        1  \n",
       "6362616         1            0.00            0.00               0        1  \n",
       "6362617         3        68488.84      6379898.11               0        1  \n",
       "6362618         1            0.00            0.00               0        1  \n",
       "6362619        28      6510099.11      7360101.63               0        1  \n",
       "\n",
       "[6362620 rows x 11 columns]"
      ]
     },
     "execution_count": 35,
     "metadata": {},
     "output_type": "execute_result"
    }
   ],
   "source": [
    "# Reorganizar as colunas para que 'nameOrig_freq' e 'nameDest_freq' fiquem no final\n",
    "colunas = [col for col in df.columns if col not in ['isFraud']]  # Excluir as colunas especificadas\n",
    "df = df[colunas + ['isFraud']]  # Adicionar as colunas no final\n",
    "\n",
    "# Exibir o DataFrame reorganizado\n",
    "df\n"
   ]
  },
  {
   "cell_type": "code",
   "execution_count": 37,
   "id": "9fcdeb01",
   "metadata": {},
   "outputs": [],
   "source": [
    "# Preparando o dataset somente com os dados de interesse\n",
    "collist = df.columns.tolist()\n",
    "cols_input = collist[0:10]\n",
    "df_data = df[cols_input + [\"isFraud\"]]"
   ]
  },
  {
   "cell_type": "code",
   "execution_count": 38,
   "id": "42becd01",
   "metadata": {},
   "outputs": [
    {
     "data": {
      "text/plain": [
       "['step',\n",
       " 'type',\n",
       " 'amount',\n",
       " 'nameOrig',\n",
       " 'oldbalanceOrg',\n",
       " 'newbalanceOrig',\n",
       " 'nameDest',\n",
       " 'oldbalanceDest',\n",
       " 'newbalanceDest',\n",
       " 'isFlaggedFraud']"
      ]
     },
     "execution_count": 38,
     "metadata": {},
     "output_type": "execute_result"
    }
   ],
   "source": [
    "cols_input"
   ]
  },
  {
   "cell_type": "code",
   "execution_count": 39,
   "id": "65417e42",
   "metadata": {},
   "outputs": [
    {
     "data": {
      "text/html": [
       "<div>\n",
       "<style scoped>\n",
       "    .dataframe tbody tr th:only-of-type {\n",
       "        vertical-align: middle;\n",
       "    }\n",
       "\n",
       "    .dataframe tbody tr th {\n",
       "        vertical-align: top;\n",
       "    }\n",
       "\n",
       "    .dataframe thead th {\n",
       "        text-align: right;\n",
       "    }\n",
       "</style>\n",
       "<table border=\"1\" class=\"dataframe\">\n",
       "  <thead>\n",
       "    <tr style=\"text-align: right;\">\n",
       "      <th></th>\n",
       "      <th>step</th>\n",
       "      <th>type</th>\n",
       "      <th>amount</th>\n",
       "      <th>nameOrig</th>\n",
       "      <th>oldbalanceOrg</th>\n",
       "      <th>newbalanceOrig</th>\n",
       "      <th>nameDest</th>\n",
       "      <th>oldbalanceDest</th>\n",
       "      <th>newbalanceDest</th>\n",
       "      <th>isFlaggedFraud</th>\n",
       "      <th>isFraud</th>\n",
       "    </tr>\n",
       "  </thead>\n",
       "  <tbody>\n",
       "    <tr>\n",
       "      <th>0</th>\n",
       "      <td>1</td>\n",
       "      <td>3</td>\n",
       "      <td>9839.64</td>\n",
       "      <td>1</td>\n",
       "      <td>170136.00</td>\n",
       "      <td>160296.36</td>\n",
       "      <td>1</td>\n",
       "      <td>0.00</td>\n",
       "      <td>0.00</td>\n",
       "      <td>0</td>\n",
       "      <td>0</td>\n",
       "    </tr>\n",
       "    <tr>\n",
       "      <th>1</th>\n",
       "      <td>1</td>\n",
       "      <td>3</td>\n",
       "      <td>1864.28</td>\n",
       "      <td>1</td>\n",
       "      <td>21249.00</td>\n",
       "      <td>19384.72</td>\n",
       "      <td>1</td>\n",
       "      <td>0.00</td>\n",
       "      <td>0.00</td>\n",
       "      <td>0</td>\n",
       "      <td>0</td>\n",
       "    </tr>\n",
       "    <tr>\n",
       "      <th>2</th>\n",
       "      <td>1</td>\n",
       "      <td>4</td>\n",
       "      <td>181.00</td>\n",
       "      <td>1</td>\n",
       "      <td>181.00</td>\n",
       "      <td>0.00</td>\n",
       "      <td>44</td>\n",
       "      <td>0.00</td>\n",
       "      <td>0.00</td>\n",
       "      <td>0</td>\n",
       "      <td>1</td>\n",
       "    </tr>\n",
       "    <tr>\n",
       "      <th>3</th>\n",
       "      <td>1</td>\n",
       "      <td>1</td>\n",
       "      <td>181.00</td>\n",
       "      <td>1</td>\n",
       "      <td>181.00</td>\n",
       "      <td>0.00</td>\n",
       "      <td>41</td>\n",
       "      <td>21182.00</td>\n",
       "      <td>0.00</td>\n",
       "      <td>0</td>\n",
       "      <td>1</td>\n",
       "    </tr>\n",
       "    <tr>\n",
       "      <th>4</th>\n",
       "      <td>1</td>\n",
       "      <td>3</td>\n",
       "      <td>11668.14</td>\n",
       "      <td>1</td>\n",
       "      <td>41554.00</td>\n",
       "      <td>29885.86</td>\n",
       "      <td>1</td>\n",
       "      <td>0.00</td>\n",
       "      <td>0.00</td>\n",
       "      <td>0</td>\n",
       "      <td>0</td>\n",
       "    </tr>\n",
       "    <tr>\n",
       "      <th>...</th>\n",
       "      <td>...</td>\n",
       "      <td>...</td>\n",
       "      <td>...</td>\n",
       "      <td>...</td>\n",
       "      <td>...</td>\n",
       "      <td>...</td>\n",
       "      <td>...</td>\n",
       "      <td>...</td>\n",
       "      <td>...</td>\n",
       "      <td>...</td>\n",
       "      <td>...</td>\n",
       "    </tr>\n",
       "    <tr>\n",
       "      <th>6362615</th>\n",
       "      <td>743</td>\n",
       "      <td>1</td>\n",
       "      <td>339682.13</td>\n",
       "      <td>1</td>\n",
       "      <td>339682.13</td>\n",
       "      <td>0.00</td>\n",
       "      <td>2</td>\n",
       "      <td>0.00</td>\n",
       "      <td>339682.13</td>\n",
       "      <td>0</td>\n",
       "      <td>1</td>\n",
       "    </tr>\n",
       "    <tr>\n",
       "      <th>6362616</th>\n",
       "      <td>743</td>\n",
       "      <td>4</td>\n",
       "      <td>6311409.28</td>\n",
       "      <td>1</td>\n",
       "      <td>6311409.28</td>\n",
       "      <td>0.00</td>\n",
       "      <td>1</td>\n",
       "      <td>0.00</td>\n",
       "      <td>0.00</td>\n",
       "      <td>0</td>\n",
       "      <td>1</td>\n",
       "    </tr>\n",
       "    <tr>\n",
       "      <th>6362617</th>\n",
       "      <td>743</td>\n",
       "      <td>1</td>\n",
       "      <td>6311409.28</td>\n",
       "      <td>1</td>\n",
       "      <td>6311409.28</td>\n",
       "      <td>0.00</td>\n",
       "      <td>3</td>\n",
       "      <td>68488.84</td>\n",
       "      <td>6379898.11</td>\n",
       "      <td>0</td>\n",
       "      <td>1</td>\n",
       "    </tr>\n",
       "    <tr>\n",
       "      <th>6362618</th>\n",
       "      <td>743</td>\n",
       "      <td>4</td>\n",
       "      <td>850002.52</td>\n",
       "      <td>1</td>\n",
       "      <td>850002.52</td>\n",
       "      <td>0.00</td>\n",
       "      <td>1</td>\n",
       "      <td>0.00</td>\n",
       "      <td>0.00</td>\n",
       "      <td>0</td>\n",
       "      <td>1</td>\n",
       "    </tr>\n",
       "    <tr>\n",
       "      <th>6362619</th>\n",
       "      <td>743</td>\n",
       "      <td>1</td>\n",
       "      <td>850002.52</td>\n",
       "      <td>1</td>\n",
       "      <td>850002.52</td>\n",
       "      <td>0.00</td>\n",
       "      <td>28</td>\n",
       "      <td>6510099.11</td>\n",
       "      <td>7360101.63</td>\n",
       "      <td>0</td>\n",
       "      <td>1</td>\n",
       "    </tr>\n",
       "  </tbody>\n",
       "</table>\n",
       "<p>6362620 rows × 11 columns</p>\n",
       "</div>"
      ],
      "text/plain": [
       "         step  type      amount  nameOrig  oldbalanceOrg  newbalanceOrig  \\\n",
       "0           1     3     9839.64         1      170136.00       160296.36   \n",
       "1           1     3     1864.28         1       21249.00        19384.72   \n",
       "2           1     4      181.00         1         181.00            0.00   \n",
       "3           1     1      181.00         1         181.00            0.00   \n",
       "4           1     3    11668.14         1       41554.00        29885.86   \n",
       "...       ...   ...         ...       ...            ...             ...   \n",
       "6362615   743     1   339682.13         1      339682.13            0.00   \n",
       "6362616   743     4  6311409.28         1     6311409.28            0.00   \n",
       "6362617   743     1  6311409.28         1     6311409.28            0.00   \n",
       "6362618   743     4   850002.52         1      850002.52            0.00   \n",
       "6362619   743     1   850002.52         1      850002.52            0.00   \n",
       "\n",
       "         nameDest  oldbalanceDest  newbalanceDest  isFlaggedFraud  isFraud  \n",
       "0               1            0.00            0.00               0        0  \n",
       "1               1            0.00            0.00               0        0  \n",
       "2              44            0.00            0.00               0        1  \n",
       "3              41        21182.00            0.00               0        1  \n",
       "4               1            0.00            0.00               0        0  \n",
       "...           ...             ...             ...             ...      ...  \n",
       "6362615         2            0.00       339682.13               0        1  \n",
       "6362616         1            0.00            0.00               0        1  \n",
       "6362617         3        68488.84      6379898.11               0        1  \n",
       "6362618         1            0.00            0.00               0        1  \n",
       "6362619        28      6510099.11      7360101.63               0        1  \n",
       "\n",
       "[6362620 rows x 11 columns]"
      ]
     },
     "execution_count": 39,
     "metadata": {},
     "output_type": "execute_result"
    }
   ],
   "source": [
    "df_data"
   ]
  },
  {
   "cell_type": "code",
   "execution_count": 40,
   "id": "a0fc0ea7",
   "metadata": {},
   "outputs": [
    {
     "name": "stdout",
     "output_type": "stream",
     "text": [
      "set()\n"
     ]
    }
   ],
   "source": [
    "# Checando se temos colunas duplicadas nos dados de entrada\n",
    "dup_cols = set([x for x in cols_input if cols_input.count(x) > 1])\n",
    "print(dup_cols)\n",
    "assert len(dup_cols) == 0, \"há colunas duplicadas\""
   ]
  },
  {
   "cell_type": "code",
   "execution_count": 41,
   "id": "75eefa49",
   "metadata": {},
   "outputs": [
    {
     "name": "stdout",
     "output_type": "stream",
     "text": [
      "set()\n"
     ]
    }
   ],
   "source": [
    "# Checando se temos colunas duplicadas no dataset final\n",
    "cols_df_data = list(df_data.columns)\n",
    "dup_cols = set([x for x in cols_df_data if cols_df_data.count(x) > 1])\n",
    "print(dup_cols)\n",
    "assert len(dup_cols) == 0, \"há colunas duplicadas\""
   ]
  },
  {
   "cell_type": "markdown",
   "id": "6efae960",
   "metadata": {},
   "source": [
    "## Etapa 6 - Divisão dos Dados em Treino, Validação e Teste"
   ]
  },
  {
   "cell_type": "code",
   "execution_count": 42,
   "id": "c0a50d92",
   "metadata": {},
   "outputs": [],
   "source": [
    "# Gerando amostras aleatórias dos dados\n",
    "df_data = df_data.sample(n = len(df_data))"
   ]
  },
  {
   "cell_type": "code",
   "execution_count": 43,
   "id": "4c6f3718",
   "metadata": {},
   "outputs": [],
   "source": [
    "# Ajustando os índices do dataset\n",
    "df_data = df_data.reset_index(drop = True)"
   ]
  },
  {
   "cell_type": "code",
   "execution_count": 44,
   "id": "6644af36",
   "metadata": {},
   "outputs": [
    {
     "name": "stdout",
     "output_type": "stream",
     "text": [
      "Tamanho da divisão de validação / teste: 0.3\n"
     ]
    }
   ],
   "source": [
    "# Gera um índice para a divisão\n",
    "df_valid_teste = df_data.sample(frac = 0.3)\n",
    "print(\"Tamanho da divisão de validação / teste: %.1f\" % (len(df_valid_teste) / len(df_data)))"
   ]
  },
  {
   "cell_type": "code",
   "execution_count": 45,
   "id": "a7198815",
   "metadata": {},
   "outputs": [],
   "source": [
    "# Fazendo a divisão 70/15/15\n",
    "\n",
    "# Dados de teste\n",
    "df_teste = df_valid_teste.sample(frac = 0.5)\n",
    "\n",
    "# Dados se validação\n",
    "df_valid = df_valid_teste.drop(df_teste.index)\n",
    "\n",
    "# Dados de treino\n",
    "df_treino = df_data.drop(df_valid_teste.index)"
   ]
  },
  {
   "cell_type": "code",
   "execution_count": 46,
   "id": "31a8a239",
   "metadata": {},
   "outputs": [
    {
     "name": "stdout",
     "output_type": "stream",
     "text": [
      "Teste(n = 954393): 0.001\n",
      "Validação(n = 954393): 0.001\n",
      "Treino(n = 4453834): 0.001\n"
     ]
    }
   ],
   "source": [
    "# Verifique a prevalência de cada subconjunto\n",
    "print(\"Teste(n = %d): %.3f\" % (len(df_teste), calcula_prevalencia(df_teste.isFraud.values)))\n",
    "print(\"Validação(n = %d): %.3f\" % (len(df_valid), calcula_prevalencia(df_valid.isFraud.values)))\n",
    "print(\"Treino(n = %d): %.3f\" % (len(df_treino), calcula_prevalencia(df_treino.isFraud.values)))"
   ]
  },
  {
   "cell_type": "code",
   "execution_count": 47,
   "id": "e3a155b6",
   "metadata": {},
   "outputs": [
    {
     "name": "stdout",
     "output_type": "stream",
     "text": [
      "Todas as amostras (n = 6362620)\n"
     ]
    }
   ],
   "source": [
    "print('Todas as amostras (n = %d)'%len(df_data))\n",
    "assert len(df_data) == (len(df_teste) + len(df_valid) + len(df_treino)), 'algo saiu errado'"
   ]
  },
  {
   "cell_type": "markdown",
   "id": "987de2eb",
   "metadata": {},
   "source": [
    "## Etapa 7 - Balanceamento de Classe\n",
    "\n",
    "Aplicamos balanceamento de classe somente nos dados de treino."
   ]
  },
  {
   "cell_type": "code",
   "execution_count": 48,
   "id": "2f41bb7d",
   "metadata": {},
   "outputs": [],
   "source": [
    "# Cria um índice\n",
    "rows_pos = df_treino.isFraud == 1"
   ]
  },
  {
   "cell_type": "code",
   "execution_count": 49,
   "id": "4c12eaf5",
   "metadata": {},
   "outputs": [],
   "source": [
    "# Define valores positivos e negativos do índice\n",
    "df_train_pos = df_treino.loc[rows_pos]\n",
    "df_train_neg = df_treino.loc[~rows_pos]"
   ]
  },
  {
   "cell_type": "code",
   "execution_count": 50,
   "id": "249717e4",
   "metadata": {},
   "outputs": [],
   "source": [
    "# Valor mínimo\n",
    "n = np.min([len(df_train_pos), len(df_train_neg)])"
   ]
  },
  {
   "cell_type": "code",
   "execution_count": 51,
   "id": "52ddc141",
   "metadata": {},
   "outputs": [],
   "source": [
    "# Obtém valores aleatórios para o dataset de treino\n",
    "df_treino_final = pd.concat([df_train_pos.sample(n = n, random_state = 64),\n",
    "                             df_train_neg.sample(n = n, random_state = 64)],\n",
    "                            axis = 0,\n",
    "                            ignore_index = True)"
   ]
  },
  {
   "cell_type": "code",
   "execution_count": 52,
   "id": "29d4e11a",
   "metadata": {},
   "outputs": [],
   "source": [
    "# Amostragem\n",
    "df_treino_final = df_treino_final.sample(n = len(df_treino_final), random_state = 64).reset_index(drop = True)"
   ]
  },
  {
   "cell_type": "code",
   "execution_count": 54,
   "id": "8d29c57a",
   "metadata": {},
   "outputs": [
    {
     "name": "stdout",
     "output_type": "stream",
     "text": [
      "Balanceamento em Treino(n = 11402): 0.500\n"
     ]
    }
   ],
   "source": [
    "print('Balanceamento em Treino(n = %d): %.3f'%(len(df_treino_final),\n",
    "                                               calcula_prevalencia(df_treino_final.isFraud.values)))"
   ]
  },
  {
   "cell_type": "code",
   "execution_count": 55,
   "id": "c1c89ed1",
   "metadata": {},
   "outputs": [
    {
     "data": {
      "image/png": "[encoded data removed]",
      "text/plain": [
       "<Figure size 640x480 with 1 Axes>"
      ]
     },
     "metadata": {},
     "output_type": "display_data"
    }
   ],
   "source": [
    "# Contar a distribuição dos valores da variável alvo\n",
    "contagem_alvo = df_treino_final['isFraud'].value_counts()\n",
    "\n",
    "# Criar gráfico de barras\n",
    "plt.bar(contagem_alvo.index.astype(str), contagem_alvo.values)\n",
    "\n",
    "# Adicionar título e rótulos\n",
    "plt.title('Distribuição da Variável Alvo (isFraud)')\n",
    "plt.xlabel('Classe (0: Sem fraude, 1: Com fraude)')\n",
    "plt.ylabel('Contagem')\n",
    "\n",
    "# Mostrar o gráfico\n",
    "plt.show()"
   ]
  },
  {
   "cell_type": "code",
   "execution_count": 56,
   "id": "93284f5c",
   "metadata": {},
   "outputs": [],
   "source": [
    "# Salvamos todos os datasets em disco no formato csv.\n",
    "df_treino.to_csv('dados_treino.csv', index = False)\n",
    "df_treino_final.to_csv('dados_treino_final.csv', index = False)\n",
    "df_valid.to_csv('dados_valid.csv', index = False)\n",
    "df_teste.to_csv('dados_teste.csv', index = False)"
   ]
  },
  {
   "cell_type": "code",
   "execution_count": 57,
   "id": "6b60228b",
   "metadata": {},
   "outputs": [],
   "source": [
    "# Salvamos os dados de entrada (colunas preditoras) para facilitar a utilização mais tarde\n",
    "pickle.dump(cols_input, open('cols_input.sav', 'wb'))"
   ]
  },
  {
   "cell_type": "markdown",
   "id": "9ad99818",
   "metadata": {},
   "source": [
    "> Criamos as Matrizes X e Y."
   ]
  },
  {
   "cell_type": "code",
   "execution_count": 58,
   "id": "6404b521",
   "metadata": {},
   "outputs": [],
   "source": [
    "# X\n",
    "X_treino = df_treino_final[cols_input].values\n",
    "X_valid = df_valid[cols_input].values"
   ]
  },
  {
   "cell_type": "code",
   "execution_count": 60,
   "id": "bee8c608",
   "metadata": {},
   "outputs": [],
   "source": [
    "# Y\n",
    "y_treino = df_treino_final['isFraud'].values\n",
    "y_valid = df_valid['isFraud'].values"
   ]
  },
  {
   "cell_type": "code",
   "execution_count": 61,
   "id": "2f2b01ed",
   "metadata": {},
   "outputs": [
    {
     "name": "stdout",
     "output_type": "stream",
     "text": [
      "Shape dos dados de treino: (11402, 10) (11402,)\n",
      "Shape dos dados de validação: (954393, 10) (954393,)\n"
     ]
    }
   ],
   "source": [
    "# Print\n",
    "print('Shape dos dados de treino:', X_treino.shape, y_treino.shape)\n",
    "print('Shape dos dados de validação:', X_valid.shape, y_valid.shape)"
   ]
  },
  {
   "cell_type": "markdown",
   "id": "a1e0f20c",
   "metadata": {},
   "source": [
    "# Padronização"
   ]
  },
  {
   "cell_type": "code",
   "execution_count": 62,
   "id": "cb7d3472",
   "metadata": {},
   "outputs": [],
   "source": [
    "# Cria o objeto\n",
    "scaler = StandardScaler()"
   ]
  },
  {
   "cell_type": "code",
   "execution_count": 63,
   "id": "8ae17536",
   "metadata": {},
   "outputs": [
    {
     "data": {
      "text/plain": [
       "StandardScaler()"
      ]
     },
     "execution_count": 63,
     "metadata": {},
     "output_type": "execute_result"
    }
   ],
   "source": [
    "# Faz o fit\n",
    "scaler.fit(X_treino)"
   ]
  },
  {
   "cell_type": "code",
   "execution_count": 64,
   "id": "43c9bbec",
   "metadata": {},
   "outputs": [],
   "source": [
    "# Salva o objeto em disco e carrega para usamos adiante\n",
    "scalerfile = 'scaler.sav'"
   ]
  },
  {
   "cell_type": "code",
   "execution_count": 65,
   "id": "f7138243",
   "metadata": {},
   "outputs": [],
   "source": [
    "pickle.dump(scaler, open(scalerfile, 'wb'))\n",
    "scaler = pickle.load(open(scalerfile, 'rb'))"
   ]
  },
  {
   "cell_type": "code",
   "execution_count": 66,
   "id": "9b243def",
   "metadata": {},
   "outputs": [],
   "source": [
    "# Aplica a padronização em nossas matrizes de dados\n",
    "X_treino_tf = scaler.transform(X_treino)\n",
    "X_valid_tf = scaler.transform(X_valid)"
   ]
  },
  {
   "cell_type": "code",
   "execution_count": 67,
   "id": "79e2b1d7",
   "metadata": {},
   "outputs": [
    {
     "data": {
      "text/plain": [
       "array([[-1.34531852,  0.61287717, -0.43881443, ..., -0.23684658,\n",
       "        -0.32035428, -0.03107531],\n",
       "       [ 0.46431401, -0.74204779, -0.38102403, ..., -0.22034807,\n",
       "        -0.27804996, -0.03107531],\n",
       "       [-0.85553194, -0.74204779, -0.29039665, ...,  1.53035326,\n",
       "         1.32486249, -0.03107531],\n",
       "       ...,\n",
       "       [-0.3812123 , -1.41951028, -0.26692879, ...,  0.22313668,\n",
       "         0.00781913, -0.03107531],\n",
       "       [-1.24220555,  1.29033965,  0.07266775, ..., -0.23684658,\n",
       "        -0.32035428, -0.03107531],\n",
       "       [ 0.01061696,  0.61287717, -0.43788774, ..., -0.23684658,\n",
       "        -0.32035428, -0.03107531]])"
      ]
     },
     "execution_count": 67,
     "metadata": {},
     "output_type": "execute_result"
    }
   ],
   "source": [
    "X_treino_tf"
   ]
  },
  {
   "cell_type": "markdown",
   "id": "c23d1ef2",
   "metadata": {},
   "source": [
    "# Modelagem Preditiva"
   ]
  },
  {
   "cell_type": "code",
   "execution_count": 69,
   "id": "b8f0adc3",
   "metadata": {},
   "outputs": [],
   "source": [
    "# Função para calcular a especificidade\n",
    "def calc_specificity(y_actual, y_pred, thresh):\n",
    "    return sum((y_pred < thresh) & (y_actual == 0)) / sum(y_actual ==0)"
   ]
  },
  {
   "cell_type": "code",
   "execution_count": 70,
   "id": "a91a565f",
   "metadata": {},
   "outputs": [],
   "source": [
    "# Função para gerar relatório de métricas\n",
    "def print_report(y_actual, y_pred, thresh):\n",
    "\n",
    "    auc = roc_auc_score(y_actual, y_pred)\n",
    "\n",
    "    accuracy = accuracy_score(y_actual, (y_pred > thresh))\n",
    "\n",
    "    recall = recall_score(y_actual, (y_pred > thresh))\n",
    "\n",
    "    precision = precision_score(y_actual, (y_pred > thresh))\n",
    "\n",
    "    specificity = calc_specificity(y_actual, y_pred, thresh)\n",
    "\n",
    "    print('AUC:%.3f'%auc)\n",
    "    print('Acurácia:%.3f'%accuracy)\n",
    "    print('Recall:%.3f'%recall)\n",
    "    print('Precisão:%.3f'%precision)\n",
    "    print('Especificidade:%.3f'%specificity)\n",
    "    print(' ')\n",
    "\n",
    "    return auc, accuracy, recall, precision, specificity"
   ]
  },
  {
   "cell_type": "code",
   "execution_count": 71,
   "id": "246f68c6",
   "metadata": {},
   "outputs": [],
   "source": [
    "thresh = 0.5"
   ]
  },
  {
   "cell_type": "markdown",
   "id": "1dc60a7b",
   "metadata": {},
   "source": [
    "### Versão 1  - Modelos Lineares Regressão Logistica"
   ]
  },
  {
   "cell_type": "code",
   "execution_count": 72,
   "id": "10287578",
   "metadata": {},
   "outputs": [
    {
     "name": "stdout",
     "output_type": "stream",
     "text": [
      "\n",
      "Regressão Logística\n",
      "\n",
      "Treinamento:\n",
      "\n",
      "AUC:0.958\n",
      "Acurácia:0.890\n",
      "Recall:0.820\n",
      "Precisão:0.953\n",
      "Especificidade:0.960\n",
      " \n",
      "Validação:\n",
      "\n",
      "AUC:0.955\n",
      "Acurácia:0.957\n",
      "Recall:0.826\n",
      "Precisão:0.024\n",
      "Especificidade:0.957\n",
      " \n"
     ]
    }
   ],
   "source": [
    "# Construção do modelo\n",
    "\n",
    "# Cria o classificador (objeto)\n",
    "lr = LogisticRegression(max_iter = 500, random_state = 142)\n",
    "\n",
    "# Treina e cria o modelo\n",
    "modelo_dsa_v1 = lr.fit(X_treino_tf, y_treino)\n",
    "\n",
    "# Previsões\n",
    "y_train_preds = modelo_dsa_v1.predict_proba(X_treino_tf)[:,1]\n",
    "y_valid_preds = modelo_dsa_v1.predict_proba(X_valid_tf)[:,1]\n",
    "\n",
    "print('\\nRegressão Logística\\n')\n",
    "\n",
    "print('Treinamento:\\n')\n",
    "v1_train_auc, v1_train_acc, v1_train_rec, v1_train_prec, v1_train_spec = print_report(y_treino,\n",
    "                                                                                          y_train_preds,\n",
    "                                                                                          thresh)\n",
    "\n",
    "print('Validação:\\n')\n",
    "v1_valid_auc, v1_valid_acc, v1_valid_rec, v1_valid_prec, v1_valid_spec = print_report(y_valid,\n",
    "                                                                                          y_valid_preds,\n",
    "                                                                                          thresh)"
   ]
  },
  {
   "cell_type": "markdown",
   "id": "d9b3b977",
   "metadata": {},
   "source": [
    "### Versão 2  - Modelos Probabilísticos Gaussian Naive Bayes"
   ]
  },
  {
   "cell_type": "code",
   "execution_count": 73,
   "id": "b5c0163d",
   "metadata": {},
   "outputs": [
    {
     "name": "stdout",
     "output_type": "stream",
     "text": [
      "\n",
      "Naive Bayes\n",
      "\n",
      "Treinamento:\n",
      "\n",
      "AUC:0.828\n",
      "Acurácia:0.571\n",
      "Recall:0.149\n",
      "Precisão:0.950\n",
      "Especificidade:0.992\n",
      " \n",
      "Validação:\n",
      "\n",
      "AUC:0.823\n",
      "Acurácia:0.990\n",
      "Recall:0.130\n",
      "Precisão:0.019\n",
      "Especificidade:0.991\n",
      " \n"
     ]
    }
   ],
   "source": [
    "# Construção do modelo\n",
    "\n",
    "# Cria o classificador (objeto)\n",
    "nb = GaussianNB()\n",
    "\n",
    "# Treina e cria o modelo\n",
    "modelo_dsa_v2 = nb.fit(X_treino_tf, y_treino)\n",
    "\n",
    "# Previsões\n",
    "y_train_preds = modelo_dsa_v2.predict_proba(X_treino_tf)[:,1]\n",
    "y_valid_preds = modelo_dsa_v2.predict_proba(X_valid_tf)[:,1]\n",
    "\n",
    "print('\\nNaive Bayes\\n')\n",
    "\n",
    "print('Treinamento:\\n')\n",
    "v2_train_auc, v2_train_acc, v2_train_rec, v2_train_prec, v2_train_spec = print_report(y_treino,\n",
    "                                                                                          y_train_preds,\n",
    "                                                                                          thresh)\n",
    "\n",
    "print('Validação:\\n')\n",
    "v2_valid_auc, v2_valid_acc, v2_valid_rec, v2_valid_prec, v2_valid_spec = print_report(y_valid,\n",
    "                                                                                          y_valid_preds,\n",
    "                                                                                          thresh)"
   ]
  },
  {
   "cell_type": "markdown",
   "id": "d66b6587",
   "metadata": {},
   "source": [
    "### Versão 3  - Modelos de Árvore de Decisão e Boosting"
   ]
  },
  {
   "cell_type": "code",
   "execution_count": 74,
   "id": "85424e80",
   "metadata": {},
   "outputs": [
    {
     "name": "stdout",
     "output_type": "stream",
     "text": [
      "\n",
      "Xtreme Gradient Boosting Classifier\n",
      "\n",
      "Treinamento:\n",
      "\n",
      "AUC:1.000\n",
      "Acurácia:1.000\n",
      "Recall:1.000\n",
      "Precisão:1.000\n",
      "Especificidade:1.000\n",
      " \n",
      "Validação:\n",
      "\n",
      "AUC:0.999\n",
      "Acurácia:0.990\n",
      "Recall:0.998\n",
      "Precisão:0.112\n",
      "Especificidade:0.990\n",
      " \n"
     ]
    }
   ],
   "source": [
    "# Construção do modelo\n",
    "\n",
    "# Cria o classificador\n",
    "xgbc = XGBClassifier()\n",
    "\n",
    "# Treina e cria o modelo\n",
    "modelo_dsa_v3 = xgbc.fit(X_treino_tf, y_treino)\n",
    "\n",
    "# Previsões\n",
    "y_train_preds = modelo_dsa_v3.predict_proba(X_treino_tf)[:,1]\n",
    "y_valid_preds = modelo_dsa_v3.predict_proba(X_valid_tf)[:,1]\n",
    "\n",
    "print('\\nXtreme Gradient Boosting Classifier\\n')\n",
    "\n",
    "print('Treinamento:\\n')\n",
    "v3_train_auc, v3_train_acc, v3_train_rec, v3_train_prec, v3_train_spec = print_report(y_treino,\n",
    "                                                                                          y_train_preds,\n",
    "                                                                                          thresh)\n",
    "\n",
    "print('Validação:\\n')\n",
    "v3_valid_auc, v3_valid_acc, v3_valid_rec, v3_valid_prec, v3_valid_spec = print_report(y_valid,\n",
    "                                                                                          y_valid_preds,\n",
    "                                                                                          thresh)"
   ]
  },
  {
   "cell_type": "markdown",
   "id": "08b34481",
   "metadata": {},
   "source": [
    "# Validação cruzada"
   ]
  },
  {
   "cell_type": "code",
   "execution_count": 75,
   "id": "19f0a0b3",
   "metadata": {},
   "outputs": [
    {
     "name": "stdout",
     "output_type": "stream",
     "text": [
      "Validação Cruzada com 5 divisões\n",
      "Score AUC em Cada Divisão: [0.99974937 0.99785276 0.99847953 0.99972068 0.99886196]\n",
      "Média de Score AUC: 0.9989328614292162\n"
     ]
    }
   ],
   "source": [
    "# Cria o classificador\n",
    "xgbc = XGBClassifier()\n",
    "\n",
    "# Configura a validação cruzada\n",
    "# Por exemplo, usando 5 divisões e a métrica de área sob a curva ROC (AUC)\n",
    "n_splits = 5\n",
    "score = 'roc_auc'\n",
    "\n",
    "# Realiza a validação cruzada\n",
    "cv_scores = cross_val_score(xgbc, X_treino_tf, y_treino, cv = n_splits, scoring = score)\n",
    "\n",
    "# Exibe os resultados\n",
    "print(f\"Validação Cruzada com {n_splits} divisões\")\n",
    "print(f\"Score AUC em Cada Divisão: {cv_scores}\")\n",
    "print(f\"Média de Score AUC: {np.mean(cv_scores)}\")"
   ]
  },
  {
   "cell_type": "markdown",
   "id": "c4f82e89",
   "metadata": {},
   "source": [
    "# Otimização de Hiperparâmetros com GridSearchCV"
   ]
  },
  {
   "cell_type": "code",
   "execution_count": 76,
   "id": "4d0477b7",
   "metadata": {},
   "outputs": [
    {
     "name": "stdout",
     "output_type": "stream",
     "text": [
      "\n",
      "Xtreme Gradient Boosting Classifier - Otimizado\n",
      "\n",
      "Melhores hiperparâmetros: {'learning_rate': 0.1, 'max_depth': 4, 'n_estimators': 200, 'subsample': 0.9}\n",
      "\n",
      "Treinamento:\n",
      "\n",
      "AUC:1.000\n",
      "Acurácia:0.996\n",
      "Recall:0.998\n",
      "Precisão:0.995\n",
      "Especificidade:0.995\n",
      " \n",
      "Validação:\n",
      "\n",
      "AUC:0.999\n",
      "Acurácia:0.989\n",
      "Recall:0.998\n",
      "Precisão:0.103\n",
      "Especificidade:0.989\n",
      " \n",
      "Wall time: 53.2 s\n"
     ]
    }
   ],
   "source": [
    "%%time\n",
    "\n",
    "# Define o classificador\n",
    "xgbc = XGBClassifier()\n",
    "\n",
    "# Define o espaço de hiperparâmetros para a otimização\n",
    "param_grid = {\n",
    "    'max_depth': [3, 4, 5],\n",
    "    'learning_rate': [0.01, 0.1, 0.2],\n",
    "    'n_estimators': [100, 200, 300],\n",
    "    'subsample': [0.7, 0.8, 0.9]\n",
    "}\n",
    "\n",
    "# Configura o GridSearchCV\n",
    "grid_search = GridSearchCV(xgbc, param_grid, cv = 5, scoring = 'roc_auc', n_jobs = -1)\n",
    "\n",
    "# Realiza a busca pelos melhores hiperparâmetros\n",
    "grid_search.fit(X_treino_tf, y_treino)\n",
    "\n",
    "# Melhores hiperparâmetros encontrados\n",
    "best_params = grid_search.best_params_\n",
    "\n",
    "# Treina o modelo com os melhores hiperparâmetros\n",
    "modelo_dsa_v4 = grid_search.best_estimator_\n",
    "\n",
    "# Previsões com o modelo otimizado\n",
    "y_train_preds_optimized = modelo_dsa_v4.predict_proba(X_treino_tf)[:,1]\n",
    "y_valid_preds_optimized = modelo_dsa_v4.predict_proba(X_valid_tf)[:,1]\n",
    "\n",
    "# Avaliação do modelo otimizado\n",
    "print('\\nXtreme Gradient Boosting Classifier - Otimizado\\n')\n",
    "print('Melhores hiperparâmetros:', best_params)\n",
    "\n",
    "print('\\nTreinamento:\\n')\n",
    "v4_train_auc, v4_train_acc, v4_train_rec, v4_train_prec, v4_train_spec = print_report(y_treino,\n",
    "                                                                                          y_train_preds_optimized,\n",
    "                                                                                          thresh)\n",
    "\n",
    "print('Validação:\\n')\n",
    "v4_valid_auc, v4_valid_acc, v4_valid_rec, v4_valid_prec, v4_valid_spec = print_report(y_valid,\n",
    "                                                                                          y_valid_preds_optimized,\n",
    "                                                                                          thresh)"
   ]
  },
  {
   "cell_type": "markdown",
   "id": "0e2a0f96",
   "metadata": {},
   "source": [
    "## Etapa 12 - Seleção do Melhor Modelo de Machine Learning\n",
    "\n",
    "**Vamos criar um dataframe com todos os resultados e plotar usando o seaborn.**"
   ]
  },
  {
   "cell_type": "code",
   "execution_count": 77,
   "id": "b674a320",
   "metadata": {},
   "outputs": [],
   "source": [
    "# Cria um dataframe com as métricas calculadas\n",
    "df_results = pd.DataFrame({'classificador':['RL','RL','NB','NB','XGB','XGB','XGB_O','XGB_O'],\n",
    "                           'data_set':['treino','validação'] * 4,\n",
    "                           'auc':[v1_train_auc,\n",
    "                                  v1_valid_auc,\n",
    "                                  v2_train_auc,\n",
    "                                  v2_valid_auc,\n",
    "                                  v3_train_auc,\n",
    "                                  v3_valid_auc,\n",
    "                                  v4_train_auc,\n",
    "                                  v4_valid_auc],\n",
    "                           'accuracy':[v1_train_acc,\n",
    "                                       v1_valid_acc,\n",
    "                                       v2_train_acc,\n",
    "                                       v2_valid_acc,\n",
    "                                       v3_train_acc,\n",
    "                                       v3_valid_acc,\n",
    "                                       v4_train_acc,\n",
    "                                       v4_valid_acc],\n",
    "                           'recall':[v1_train_rec,\n",
    "                                     v1_valid_rec,\n",
    "                                     v2_train_rec,\n",
    "                                     v2_valid_rec,\n",
    "                                     v3_train_rec,\n",
    "                                     v3_valid_rec,\n",
    "                                     v4_train_rec,\n",
    "                                     v4_valid_rec],\n",
    "                           'precision':[v1_train_prec,\n",
    "                                        v1_valid_prec,\n",
    "                                        v2_train_prec,\n",
    "                                        v2_valid_prec,\n",
    "                                        v3_train_prec,\n",
    "                                        v3_valid_prec,\n",
    "                                        v4_train_prec,\n",
    "                                        v4_valid_prec],\n",
    "                           'specificity':[v1_train_spec,\n",
    "                                          v1_valid_spec,\n",
    "                                          v2_train_spec,\n",
    "                                          v2_valid_spec,\n",
    "                                          v3_train_spec,\n",
    "                                          v3_valid_spec,\n",
    "                                          v4_train_spec,\n",
    "                                          v4_valid_spec]})"
   ]
  },
  {
   "cell_type": "markdown",
   "id": "b6604ca2",
   "metadata": {},
   "source": [
    "A métrica de desempenho escolhida será a pontuação AUC (AUC Score) do conjunto de validação. É a pontuação ideal para comparar modelos de algoritmos diferentes."
   ]
  },
  {
   "cell_type": "code",
   "execution_count": 78,
   "id": "33aa8855",
   "metadata": {},
   "outputs": [
    {
     "data": {
      "image/png": "[encoded data removed]",
      "text/plain": [
       "<Figure size 1600x800 with 1 Axes>"
      ]
     },
     "metadata": {},
     "output_type": "display_data"
    }
   ],
   "source": [
    "# Construção do Plot\n",
    "sns.set_style(\"whitegrid\")\n",
    "plt.figure(figsize = (16, 8))\n",
    "\n",
    "# Gráfico de barras\n",
    "ax = sns.barplot(x = 'classificador', y = 'auc', hue = 'data_set', data = df_results)\n",
    "ax.set_xlabel('Classificador', fontsize = 15)\n",
    "ax.set_ylabel('AUC', fontsize = 15)\n",
    "ax.tick_params(labelsize = 15)\n",
    "\n",
    "# Legenda\n",
    "plt.legend(bbox_to_anchor = (1.05, 1), loc = 2, borderaxespad = 0., fontsize = 15)\n",
    "plt.show();"
   ]
  },
  {
   "cell_type": "code",
   "execution_count": 79,
   "id": "d17415cd",
   "metadata": {},
   "outputs": [
    {
     "data": {
      "text/html": [
       "<div>\n",
       "<style scoped>\n",
       "    .dataframe tbody tr th:only-of-type {\n",
       "        vertical-align: middle;\n",
       "    }\n",
       "\n",
       "    .dataframe tbody tr th {\n",
       "        vertical-align: top;\n",
       "    }\n",
       "\n",
       "    .dataframe thead th {\n",
       "        text-align: right;\n",
       "    }\n",
       "</style>\n",
       "<table border=\"1\" class=\"dataframe\">\n",
       "  <thead>\n",
       "    <tr style=\"text-align: right;\">\n",
       "      <th></th>\n",
       "      <th>classificador</th>\n",
       "      <th>data_set</th>\n",
       "      <th>auc</th>\n",
       "      <th>accuracy</th>\n",
       "      <th>recall</th>\n",
       "      <th>precision</th>\n",
       "      <th>specificity</th>\n",
       "    </tr>\n",
       "  </thead>\n",
       "  <tbody>\n",
       "    <tr>\n",
       "      <th>0</th>\n",
       "      <td>RL</td>\n",
       "      <td>treino</td>\n",
       "      <td>0.957517</td>\n",
       "      <td>0.889844</td>\n",
       "      <td>0.819856</td>\n",
       "      <td>0.953294</td>\n",
       "      <td>0.959832</td>\n",
       "    </tr>\n",
       "    <tr>\n",
       "      <th>1</th>\n",
       "      <td>RL</td>\n",
       "      <td>validação</td>\n",
       "      <td>0.955049</td>\n",
       "      <td>0.957014</td>\n",
       "      <td>0.825911</td>\n",
       "      <td>0.024384</td>\n",
       "      <td>0.957183</td>\n",
       "    </tr>\n",
       "    <tr>\n",
       "      <th>2</th>\n",
       "      <td>NB</td>\n",
       "      <td>treino</td>\n",
       "      <td>0.827628</td>\n",
       "      <td>0.570514</td>\n",
       "      <td>0.148921</td>\n",
       "      <td>0.949664</td>\n",
       "      <td>0.992107</td>\n",
       "    </tr>\n",
       "    <tr>\n",
       "      <th>3</th>\n",
       "      <td>NB</td>\n",
       "      <td>validação</td>\n",
       "      <td>0.823324</td>\n",
       "      <td>0.990170</td>\n",
       "      <td>0.129555</td>\n",
       "      <td>0.018897</td>\n",
       "      <td>0.991285</td>\n",
       "    </tr>\n",
       "    <tr>\n",
       "      <th>4</th>\n",
       "      <td>XGB</td>\n",
       "      <td>treino</td>\n",
       "      <td>1.000000</td>\n",
       "      <td>1.000000</td>\n",
       "      <td>1.000000</td>\n",
       "      <td>1.000000</td>\n",
       "      <td>1.000000</td>\n",
       "    </tr>\n",
       "    <tr>\n",
       "      <th>5</th>\n",
       "      <td>XGB</td>\n",
       "      <td>validação</td>\n",
       "      <td>0.999464</td>\n",
       "      <td>0.989745</td>\n",
       "      <td>0.998381</td>\n",
       "      <td>0.111908</td>\n",
       "      <td>0.989734</td>\n",
       "    </tr>\n",
       "    <tr>\n",
       "      <th>6</th>\n",
       "      <td>XGB_O</td>\n",
       "      <td>treino</td>\n",
       "      <td>0.999956</td>\n",
       "      <td>0.996492</td>\n",
       "      <td>0.998246</td>\n",
       "      <td>0.994756</td>\n",
       "      <td>0.994738</td>\n",
       "    </tr>\n",
       "    <tr>\n",
       "      <th>7</th>\n",
       "      <td>XGB_O</td>\n",
       "      <td>validação</td>\n",
       "      <td>0.999481</td>\n",
       "      <td>0.988709</td>\n",
       "      <td>0.998381</td>\n",
       "      <td>0.102690</td>\n",
       "      <td>0.988697</td>\n",
       "    </tr>\n",
       "  </tbody>\n",
       "</table>\n",
       "</div>"
      ],
      "text/plain": [
       "  classificador   data_set       auc  accuracy    recall  precision  \\\n",
       "0            RL     treino  0.957517  0.889844  0.819856   0.953294   \n",
       "1            RL  validação  0.955049  0.957014  0.825911   0.024384   \n",
       "2            NB     treino  0.827628  0.570514  0.148921   0.949664   \n",
       "3            NB  validação  0.823324  0.990170  0.129555   0.018897   \n",
       "4           XGB     treino  1.000000  1.000000  1.000000   1.000000   \n",
       "5           XGB  validação  0.999464  0.989745  0.998381   0.111908   \n",
       "6         XGB_O     treino  0.999956  0.996492  0.998246   0.994756   \n",
       "7         XGB_O  validação  0.999481  0.988709  0.998381   0.102690   \n",
       "\n",
       "   specificity  \n",
       "0     0.959832  \n",
       "1     0.957183  \n",
       "2     0.992107  \n",
       "3     0.991285  \n",
       "4     1.000000  \n",
       "5     0.989734  \n",
       "6     0.994738  \n",
       "7     0.988697  "
      ]
     },
     "execution_count": 79,
     "metadata": {},
     "output_type": "execute_result"
    }
   ],
   "source": [
    "# Tabela de comparação dos modelos\n",
    "df_results"
   ]
  },
  {
   "cell_type": "code",
   "execution_count": 80,
   "id": "17ade50d",
   "metadata": {},
   "outputs": [
    {
     "data": {
      "text/html": [
       "<div>\n",
       "<style scoped>\n",
       "    .dataframe tbody tr th:only-of-type {\n",
       "        vertical-align: middle;\n",
       "    }\n",
       "\n",
       "    .dataframe tbody tr th {\n",
       "        vertical-align: top;\n",
       "    }\n",
       "\n",
       "    .dataframe thead th {\n",
       "        text-align: right;\n",
       "    }\n",
       "</style>\n",
       "<table border=\"1\" class=\"dataframe\">\n",
       "  <thead>\n",
       "    <tr style=\"text-align: right;\">\n",
       "      <th></th>\n",
       "      <th>classificador</th>\n",
       "      <th>data_set</th>\n",
       "      <th>auc</th>\n",
       "      <th>accuracy</th>\n",
       "      <th>recall</th>\n",
       "      <th>precision</th>\n",
       "      <th>specificity</th>\n",
       "    </tr>\n",
       "  </thead>\n",
       "  <tbody>\n",
       "    <tr>\n",
       "      <th>7</th>\n",
       "      <td>XGB_O</td>\n",
       "      <td>validação</td>\n",
       "      <td>0.999481</td>\n",
       "      <td>0.988709</td>\n",
       "      <td>0.998381</td>\n",
       "      <td>0.102690</td>\n",
       "      <td>0.988697</td>\n",
       "    </tr>\n",
       "    <tr>\n",
       "      <th>5</th>\n",
       "      <td>XGB</td>\n",
       "      <td>validação</td>\n",
       "      <td>0.999464</td>\n",
       "      <td>0.989745</td>\n",
       "      <td>0.998381</td>\n",
       "      <td>0.111908</td>\n",
       "      <td>0.989734</td>\n",
       "    </tr>\n",
       "    <tr>\n",
       "      <th>1</th>\n",
       "      <td>RL</td>\n",
       "      <td>validação</td>\n",
       "      <td>0.955049</td>\n",
       "      <td>0.957014</td>\n",
       "      <td>0.825911</td>\n",
       "      <td>0.024384</td>\n",
       "      <td>0.957183</td>\n",
       "    </tr>\n",
       "    <tr>\n",
       "      <th>3</th>\n",
       "      <td>NB</td>\n",
       "      <td>validação</td>\n",
       "      <td>0.823324</td>\n",
       "      <td>0.990170</td>\n",
       "      <td>0.129555</td>\n",
       "      <td>0.018897</td>\n",
       "      <td>0.991285</td>\n",
       "    </tr>\n",
       "  </tbody>\n",
       "</table>\n",
       "</div>"
      ],
      "text/plain": [
       "  classificador   data_set       auc  accuracy    recall  precision  \\\n",
       "7         XGB_O  validação  0.999481  0.988709  0.998381   0.102690   \n",
       "5           XGB  validação  0.999464  0.989745  0.998381   0.111908   \n",
       "1            RL  validação  0.955049  0.957014  0.825911   0.024384   \n",
       "3            NB  validação  0.823324  0.990170  0.129555   0.018897   \n",
       "\n",
       "   specificity  \n",
       "7     0.988697  \n",
       "5     0.989734  \n",
       "1     0.957183  \n",
       "3     0.991285  "
      ]
     },
     "execution_count": 80,
     "metadata": {},
     "output_type": "execute_result"
    }
   ],
   "source": [
    "# Tabela de comparação dos modelos somente com métricas em validação e ordenado por AUC\n",
    "df_results[df_results['data_set'] == 'validação'].sort_values(by = 'auc', ascending = False)"
   ]
  },
  {
   "cell_type": "code",
   "execution_count": 81,
   "id": "bb1bd0b3",
   "metadata": {},
   "outputs": [],
   "source": [
    "# Grava o modelo em disco\n",
    "pickle.dump(modelo_dsa_v4, open('melhor_modelo_dsa.pkl', 'wb'), protocol = 4)"
   ]
  },
  {
   "cell_type": "markdown",
   "id": "fa01c914",
   "metadata": {},
   "source": [
    "Avaliação e Interpretação das Métricas"
   ]
  },
  {
   "cell_type": "code",
   "execution_count": 84,
   "id": "e01b29a2",
   "metadata": {},
   "outputs": [],
   "source": [
    "# Carrega o modelo, as colunas e o scaler\n",
    "melhor_modelo = pickle.load(open('melhor_modelo_dsa.pkl','rb'))\n",
    "cols_input = pickle.load(open('cols_input.sav','rb'))\n",
    "scaler = pickle.load(open('scaler.sav', 'rb'))\n",
    "\n",
    "# Carrega os dados\n",
    "df_train = pd.read_csv('dados_treino.csv')\n",
    "df_valid= pd.read_csv('dados_valid.csv')\n",
    "df_test= pd.read_csv('dados_teste.csv')\n",
    "\n",
    "# Cria matrizes x e y\n",
    "\n",
    "# X\n",
    "X_train = df_train[cols_input].values\n",
    "X_valid = df_valid[cols_input].values\n",
    "X_test = df_test[cols_input].values\n",
    "\n",
    "# Y\n",
    "y_train = df_train['isFraud'].values\n",
    "y_valid = df_valid['isFraud'].values\n",
    "y_test = df_test['isFraud'].values\n",
    "\n",
    "# Aplica a transformação nos dados\n",
    "X_train_tf = scaler.transform(X_train)\n",
    "X_valid_tf = scaler.transform(X_valid)\n",
    "X_test_tf = scaler.transform(X_test)"
   ]
  },
  {
   "cell_type": "markdown",
   "id": "20404250",
   "metadata": {},
   "source": [
    "> Calculando as previsões no formato de probabilidades."
   ]
  },
  {
   "cell_type": "code",
   "execution_count": 85,
   "id": "2ce3a1ed",
   "metadata": {},
   "outputs": [],
   "source": [
    "# Calcula as probabilidades\n",
    "y_train_preds = melhor_modelo.predict_proba(X_train_tf)[:,1]\n",
    "y_valid_preds = melhor_modelo.predict_proba(X_valid_tf)[:,1]\n",
    "y_test_preds = melhor_modelo.predict_proba(X_test_tf)[:,1]"
   ]
  },
  {
   "cell_type": "markdown",
   "id": "bb6d5332",
   "metadata": {},
   "source": [
    "> Avaliação de desempenho."
   ]
  },
  {
   "cell_type": "code",
   "execution_count": 86,
   "id": "39a74a4e",
   "metadata": {},
   "outputs": [
    {
     "name": "stdout",
     "output_type": "stream",
     "text": [
      "\n",
      "Treinamento:\n",
      "\n",
      "AUC:1.000\n",
      "Acurácia:0.989\n",
      "Recall:0.998\n",
      "Precisão:0.103\n",
      "Especificidade:0.989\n",
      " \n",
      "\n",
      "Validação:\n",
      "\n",
      "AUC:0.999\n",
      "Acurácia:0.989\n",
      "Recall:0.998\n",
      "Precisão:0.103\n",
      "Especificidade:0.989\n",
      " \n",
      "\n",
      "Teste:\n",
      "\n",
      "AUC:0.999\n",
      "Acurácia:0.989\n",
      "Recall:0.996\n",
      "Precisão:0.107\n",
      "Especificidade:0.989\n",
      " \n"
     ]
    }
   ],
   "source": [
    "thresh = 0.5\n",
    "\n",
    "print('\\nTreinamento:\\n')\n",
    "train_auc, train_accuracy, train_recall, train_precision, train_specificity = print_report(y_train,\n",
    "                                                                                               y_train_preds,\n",
    "                                                                                               thresh)\n",
    "\n",
    "print('\\nValidação:\\n')\n",
    "valid_auc, valid_accuracy, valid_recall, valid_precision, valid_specificity = print_report(y_valid,\n",
    "                                                                                               y_valid_preds,\n",
    "                                                                                               thresh)\n",
    "\n",
    "print('\\nTeste:\\n')\n",
    "test_auc, test_accuracy, test_recall, test_precision, test_specificity = print_report(y_test,\n",
    "                                                                                          y_test_preds,\n",
    "                                                                                          thresh)"
   ]
  },
  {
   "cell_type": "markdown",
   "id": "ffd257b7",
   "metadata": {},
   "source": [
    "> Curva ROC."
   ]
  },
  {
   "cell_type": "code",
   "execution_count": 87,
   "id": "703f3e92",
   "metadata": {},
   "outputs": [
    {
     "data": {
      "image/png": "[encoded data removed]",
      "text/plain": [
       "<Figure size 1600x1000 with 1 Axes>"
      ]
     },
     "metadata": {},
     "output_type": "display_data"
    }
   ],
   "source": [
    "# Calcula a curva ROC nos dados de treino\n",
    "fpr_train, tpr_train, thresholds_train = roc_curve(y_train, y_train_preds)\n",
    "auc_train = roc_auc_score(y_train, y_train_preds)\n",
    "\n",
    "# Calcula a curva ROC nos dados de validação\n",
    "fpr_valid, tpr_valid, thresholds_valid = roc_curve(y_valid, y_valid_preds)\n",
    "auc_valid = roc_auc_score(y_valid, y_valid_preds)\n",
    "\n",
    "# Calcula a curva ROC nos dados de teste\n",
    "fpr_test, tpr_test, thresholds_test = roc_curve(y_test, y_test_preds)\n",
    "auc_test = roc_auc_score(y_test, y_test_preds)\n",
    "\n",
    "# Plot\n",
    "plt.figure(figsize=(16,10))\n",
    "plt.plot(fpr_train, tpr_train, 'r-', label = 'AUC em Treino: %.3f' % auc_train)\n",
    "plt.plot(fpr_valid, tpr_valid, 'b-', label = 'AUC em Validação: %.3f' % auc_valid)\n",
    "plt.plot(fpr_test, tpr_test, 'g-', label = 'AUC em Teste: %.3f' % auc_test)\n",
    "plt.plot([0,1],[0,1],'k--')\n",
    "plt.xlabel('Taxa de Falso Positivo')\n",
    "plt.ylabel('Taxa de Verdadeiro Positivo')\n",
    "plt.legend()\n",
    "plt.show()"
   ]
  }
 ],
 "metadata": {
  "kernelspec": {
   "display_name": "Python 3 (ipykernel)",
   "language": "python",
   "name": "python3"
  },
  "language_info": {
   "codemirror_mode": {
    "name": "ipython",
    "version": 3
   },
   "file_extension": ".py",
   "mimetype": "text/x-python",
   "name": "python",
   "nbconvert_exporter": "python",
   "pygments_lexer": "ipython3",
   "version": "3.9.13"
  }
 },
 "nbformat": 4,
 "nbformat_minor": 5
}
